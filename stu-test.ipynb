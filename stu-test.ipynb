{
 "cells": [
  {
   "cell_type": "code",
   "execution_count": 1,
   "metadata": {
    "collapsed": false
   },
   "outputs": [
    {
     "name": "stdout",
     "output_type": "stream",
     "text": [
      "  % Total    % Received % Xferd  Average Speed   Time    Time     Time  Current\n",
      "                                 Dload  Upload   Total   Spent    Left  Speed\n",
      "100  1862  100  1862    0     0   5917      0 --:--:-- --:--:-- --:--:-- 10402\n",
      "Navigating bash and UNIX\n",
      "Machine learning with Neural Networks using Keras.io\n",
      "Git and GitHub\n",
      "Data Tidying in RR & Python\n",
      "Ensemble (Machine) Learning with Super Learner and H2O in RR \n"
     ]
    }
   ],
   "source": [
    "!curl -o thw.txt http://stuartgeiger.com/thw.txt\n",
    "!head -5 thw.txt"
   ]
  },
  {
   "cell_type": "code",
   "execution_count": 2,
   "metadata": {
    "collapsed": false
   },
   "outputs": [],
   "source": [
    "with open('thw.txt') as f:\n",
    "    text = f.read()"
   ]
  },
  {
   "cell_type": "code",
   "execution_count": 3,
   "metadata": {
    "collapsed": false
   },
   "outputs": [
    {
     "data": {
      "text/plain": [
       "['Navigating bash and UNIX',\n",
       " 'Machine learning with Neural Networks using Keras.io',\n",
       " 'Git and GitHub',\n",
       " 'Data Tidying in RR & Python',\n",
       " 'Ensemble (Machine) Learning with Super Learner and H2O in RR ',\n",
       " 'RRStudio ',\n",
       " 'Thanksgiving ',\n",
       " 'Machine learning with scikit-learn',\n",
       " 'Matplotlib ',\n",
       " 'Physical Computing ',\n",
       " 'The Python Olympics ',\n",
       " 'Parallelization in Python ',\n",
       " 'Natural Language Processing for Python with NLTK ',\n",
       " 'Git and Github ',\n",
       " 'Github Pages and Jekyll ',\n",
       " 'Machine Learning for Kaggle Competitions with RR ',\n",
       " 'The Bash Olympics ',\n",
       " 'What To Learn and Teach ',\n",
       " 'D3.js ',\n",
       " 'Tableau ',\n",
       " 'Build Systems ',\n",
       " 'Cython ',\n",
       " 'Python For Plotting Timeseries & 3D Data ',\n",
       " 'matplotlib ',\n",
       " 'Handling and Visualizing Geospatial Data ',\n",
       " 'Python Metaprogramming & Conversion to Python 3 ',\n",
       " 'Julia ',\n",
       " 'Scraping Wikipedia Data ',\n",
       " 'Pandas ',\n",
       " 'LaTeX ',\n",
       " 'High Performance Python ',\n",
       " 'scikit-learn',\n",
       " 'scikit-learn',\n",
       " 'Advanced Python ',\n",
       " 'GPUs and Parallelization ',\n",
       " 'Webscraping ',\n",
       " 'Free-form hacking',\n",
       " 'Pandas ',\n",
       " 'Spark and Hadoop ',\n",
       " 'Visualization ',\n",
       " 'Advanced Git and GitHub ',\n",
       " 'Introductory Git and GitHub ',\n",
       " 'Shiny ',\n",
       " 'Make ',\n",
       " 'C++ and Object Orientation ',\n",
       " 'Microcontrollers ',\n",
       " 'Julia ',\n",
       " 'RR ',\n",
       " 'Computer Architectures ',\n",
       " 'Testing ',\n",
       " 'Matplotlib and Seaborn ',\n",
       " 'IPython ',\n",
       " 'Advanced Git ',\n",
       " 'Text Editors ',\n",
       " 'Parallel Programming ',\n",
       " 'The Shell and The Filesystem Hierarchy Standard ',\n",
       " 'What Do You Want To Learn and What Can You Teach ',\n",
       " 'Nuclear Data and Advanced Cython ',\n",
       " 'ORIGEN and Open Source',\n",
       " 'Cython and the Python C/API ',\n",
       " 'Jekyll ',\n",
       " 'MocDown and Pyne Install ',\n",
       " 'MocDown and Python Threading ',\n",
       " 'Numpy Vectorization and Python Logging ',\n",
       " 'HPC Module Installation and Plotting Tools ',\n",
       " 'PARCS and RadWatch (without the physics) ',\n",
       " 'When and Where Survey',\n",
       " 'Serpent and LaTeX ',\n",
       " 'CRAM and imagemagick ',\n",
       " 'Computational Nuclear Engineering Overview & Bash ',\n",
       " 'LaTeX ',\n",
       " 'So You Have A Software',\n",
       " 'Packaging and Distribution ',\n",
       " 'Emailing with Python ',\n",
       " 'Raspberry Pi Hacking ',\n",
       " 'Testing Part II ',\n",
       " 'Testing ',\n",
       " 'IPython ',\n",
       " 'Makefiles ',\n",
       " 'Self Documenting Code ',\n",
       " 'Intro to Git Part II ',\n",
       " 'Intro to Git ',\n",
       " 'GPUs and CUDA ',\n",
       " 'Bash  ',\n",
       " '']"
      ]
     },
     "execution_count": 3,
     "metadata": {},
     "output_type": "execute_result"
    }
   ],
   "source": [
    "text.split(\"\\n\")"
   ]
  },
  {
   "cell_type": "code",
   "execution_count": null,
   "metadata": {
    "collapsed": true
   },
   "outputs": [],
   "source": []
  }
 ],
 "metadata": {
  "anaconda-cloud": {},
  "kernelspec": {
   "display_name": "Python 3",
   "language": "python",
   "name": "python3"
  },
  "language_info": {
   "codemirror_mode": {
    "name": "ipython",
    "version": 3
   },
   "file_extension": ".py",
   "mimetype": "text/x-python",
   "name": "python",
   "nbconvert_exporter": "python",
   "pygments_lexer": "ipython3",
   "version": "3.5.2"
  }
 },
 "nbformat": 4,
 "nbformat_minor": 0
}
